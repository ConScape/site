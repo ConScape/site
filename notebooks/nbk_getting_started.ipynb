{
  "cells": [
    {
      "cell_type": "raw",
      "metadata": {},
      "source": [
        "---\n",
        "title: \"Getting started\"\n",
        "---"
      ],
      "id": "5e33198d"
    },
    {
      "cell_type": "markdown",
      "metadata": {},
      "source": [
        "::: {.callout-tip}\n",
        "## Here you will learn\n",
        "\n",
        "The basics of ConScape: importing data, running basic analyses, and exporting resulting maps.\n",
        ":::\n",
        "\n",
        "This tutorial is very similar to the notebook in Appendix A from van Moorter et al. (2022). For a broad overview of the ConScape library, please refer to van Moorter et al. (2022). \n",
        "\n",
        "In this first notebook we demonstrate the basic workflow as presented in van Moorter et al. (2022) \n",
        "to compute the amount of connected habitat and the movement flow in four steps:\n",
        "1. data import and Grid creation;\n",
        "2. computation of the GridRSP;\n",
        "3. computation of the amount of connected habitat;\n",
        "4. movement flow in two variants (weighted by quality or by proximity).\n",
        "\n",
        "\n",
        "# Setup the environment\n",
        "\n",
        "::: {.callout-warning}\n",
        "This notebook assumes a running installation of Julia. If you didn't already install Julia go [here](/quick_start.qmd).\n",
        ":::\n",
        "\n",
        "## Install ConScape\n",
        "\n",
        "In the first time we use ConsCape, we need to install the library. This step can be ignored in the afterwards,\n",
        "unless the user wants to reinstall or update the ConScape library to a new version.\n",
        "\n",
        "Within the Julia environment, installing ConScape is as simple as:\n"
      ],
      "id": "0be3be39"
    },
    {
      "cell_type": "code",
      "metadata": {},
      "source": [
        "#| eval: false\n",
        "\n",
        "# load Pkg library\n",
        "using Pkg\n",
        "# install ConScape\n",
        "Pkg.add(\"ConScape\")"
      ],
      "id": "62b6288d",
      "execution_count": null,
      "outputs": []
    },
    {
      "cell_type": "markdown",
      "metadata": {},
      "source": [
        "We will also install other libraries that will be used in this notebook, but they are not\n",
        "necessary to run ConScape.\n"
      ],
      "id": "d404abe8"
    },
    {
      "cell_type": "code",
      "metadata": {},
      "source": [
        "#| eval: false\n",
        "\n",
        "# complementary libraries, to be used in this notebook\n",
        "Pkg.add(\"Rasters\")"
      ],
      "id": "5b78007e",
      "execution_count": null,
      "outputs": []
    },
    {
      "cell_type": "markdown",
      "metadata": {},
      "source": [
        "## Load libraries\n",
        "\n",
        "We continue, and usually would start, by loading the required libraries.\n"
      ],
      "id": "636194dc"
    },
    {
      "cell_type": "code",
      "metadata": {},
      "source": [
        "# load libraries\n",
        "using Pkg\n",
        "using ConScape\n",
        "using Plots"
      ],
      "id": "dfbfb836",
      "execution_count": null,
      "outputs": []
    },
    {
      "cell_type": "markdown",
      "metadata": {},
      "source": [
        "This step is similar to using the `library()` function in R or the `import` command in Python.\n",
        "\n",
        "When setting up the environment, it is also useful to setup the path to the folders where the input data are located\n",
        "and where we want to write the results of our analysis. Here we set the `datadir` data folder to the folder where\n",
        "the internal ConScape example datasets are saved, after the library is installed.\n"
      ],
      "id": "9b358613"
    },
    {
      "cell_type": "code",
      "metadata": {},
      "source": [
        "#| eval: false\n",
        "\n",
        "# path to files\n",
        "# Pkg.activate(joinpath(ENV[\"HOMEPATH\"], \".julia\", \"packages\", \"ConScape\", \"spkWs\", \"data\"))\n",
        "\n",
        "# set folders\n",
        "datadir = joinpath(ENV[\"HOMEPATH\"], \".julia\", \"packages\", \"ConScape\", \"spkWs\", \"data\")\n",
        "outdir = joinpath(ENV[\"TMP\"], \"figures\")\n",
        "# created the output folder, if it does not exist\n",
        "if !isdir(outdir)\n",
        "    mkdir(outdir)\n",
        "end"
      ],
      "id": "7732fa0c",
      "execution_count": null,
      "outputs": []
    },
    {
      "cell_type": "markdown",
      "metadata": {},
      "source": [
        "# Step 1: Data import and grid creation\n",
        "\n",
        "## Import data\n",
        "\n",
        "We start by importing and checking the input data to be used in ConScape.\n",
        "The first ConScape function is a helper to read maps in ASCII format, the function `readasc()`:\n"
      ],
      "id": "4f363252"
    },
    {
      "cell_type": "code",
      "metadata": {},
      "source": [
        "datadir = \"P:/12084000_egenutvikling_bram_van_moorter/Conscape_development/test/data/\"\n",
        "# read habitat quality raster\n",
        "hab_qual, meta_q = ConScape.readasc(joinpath(datadir, \"hab_qual_1000.asc\"))\n",
        "# read movemement probability raster\n",
        "mov_prob, meta_p = ConScape.readasc(joinpath(datadir, \"mov_prob_1000.asc\"))"
      ],
      "id": "ac6ea09f",
      "execution_count": null,
      "outputs": []
    },
    {
      "cell_type": "markdown",
      "metadata": {},
      "source": [
        "The function reads the map as a matrix and the meta data from the ASCII grid as a dictionary.\n",
        "ConScape natively reads ASC files, however, Julia allows easy reading of maps in other file\n",
        "formats through other libraries, for instance:\n",
        "\n",
        "**This chunk below is not working!!! Missing file!!**\n",
        "Wouldn't it be much easier to create a function readrast within ConScape?\n",
        "Or this would increase the dependencies (to Rasters), which is undesiderable?\n"
      ],
      "id": "d5f592d1"
    },
    {
      "cell_type": "code",
      "metadata": {},
      "source": [
        "#| eval: false\n",
        "# load Rasters library\n",
        "using Rasters\n",
        "# read habitat quality using Rasters()\n",
        "hab_qual = Raster(joinpath(datadir, \"hab_qual_1000_tif.tif\"))"
      ],
      "id": "b483bf75",
      "execution_count": null,
      "outputs": []
    },
    {
      "cell_type": "markdown",
      "metadata": {},
      "source": [
        "Such a raster can easily be converted to a matrix for use in ConScape:\n"
      ],
      "id": "c856409a"
    },
    {
      "cell_type": "code",
      "metadata": {},
      "source": [
        "#| eval: false\n",
        "# Replace missing values by NaN and transform into a matrix\n",
        "hab_qual = replace_missing(hab_qual, NaN)\n",
        "hab_qual = Matrix(transpose(Array(hab_qual)[:,:,1]))"
      ],
      "id": "c5bd672b",
      "execution_count": null,
      "outputs": []
    },
    {
      "cell_type": "markdown",
      "metadata": {},
      "source": [
        "The meta data can be used to verify that the maps are representing the same geographic domain\n",
        "(i.e. cell size/resolution, number of rows and columns, xy-coordinates of the lower left corner):\n",
        "\n",
        "**Which of the following options should we use? They were present in different versions of the notebook**\n"
      ],
      "id": "a6c4723c"
    },
    {
      "cell_type": "code",
      "metadata": {},
      "source": [
        "values(meta_p)\n",
        "collect(values(meta_p))[1:end .!= 3]\n",
        "collect(values(meta_p))[1:end .!= 3] == collect(values(meta_q))[1:end .!= 3]"
      ],
      "id": "1cf6179d",
      "execution_count": null,
      "outputs": []
    },
    {
      "cell_type": "code",
      "metadata": {},
      "source": [
        "#| eval: false\n",
        "delete!(meta_p, \"nodata_value\")\n",
        "delete!(meta_q, \"nodata_value\")\n",
        "meta_p == meta_q"
      ],
      "id": "bab70a4a",
      "execution_count": null,
      "outputs": []
    },
    {
      "cell_type": "markdown",
      "metadata": {},
      "source": [
        "To ensure that the cells with values match, we conduct the following check and remove non-matching cells:\n",
        "\n",
        "**Check here**\n"
      ],
      "id": "a9e61052"
    },
    {
      "cell_type": "code",
      "metadata": {},
      "source": [
        "#| eval: true\n",
        "non_matches = findall(xor.(isnan.(mov_prob), isnan.(hab_qual)))\n",
        "mov_prob[non_matches] .= NaN\n",
        "hab_qual[non_matches] .= NaN;"
      ],
      "id": "c2675b38",
      "execution_count": null,
      "outputs": []
    },
    {
      "cell_type": "markdown",
      "metadata": {},
      "source": [
        "## Create a `Grid` object\n",
        "\n",
        "Define a `ConScape Grid`:\n"
      ],
      "id": "8cabad19"
    },
    {
      "cell_type": "code",
      "metadata": {},
      "source": [
        "adjacency_matrix = ConScape.graph_matrix_from_raster(mov_prob)\n",
        "g = ConScape.Grid(size(mov_prob)..., \n",
        "                    affinities = adjacency_matrix,\n",
        "                    source_qualities = hab_qual,\n",
        "                    target_qualities = ConScape.sparse(hab_qual),\n",
        "                    costs = ConScape.mapnz(x -> -log(x), adjacency_matrix))"
      ],
      "id": "82cae2a6",
      "execution_count": null,
      "outputs": []
    },
    {
      "cell_type": "markdown",
      "metadata": {},
      "source": [
        "A `ConScape Grid` describes a graph from a grid of adjacent cells or pixels. It requires four\n",
        "main inputs: the quality of each pixel both as a source and as a target, the affinity between `i` and\n",
        "`j` (i.e. probabilities of moving between adjacent pixels `i` and `j`), and the cost of moving between\n",
        "between `i` and `j`. However, these four inputs can be reduced, for instance, by considering the\n",
        "quality of a pixel identical as a source and target, or by defining the cost as a function of the\n",
        "affinities (e.g. a logarithmic relationship). For our illustration, we introduced those two simplifications and only provided two independent data: the quality of a pixel (identical as source\n",
        "and as target) and the likelihood of moving between adjacent pixels. The likelihood of moving between adjacent pixels `i` and `j` was derived from a ‘permeability map’, which describes\n",
        "the permeability of a pixel `i` (and is similar to the conductivity in circuit theory). The function\n",
        "graph matrix from raster computes the values for an `i` − `j` pair from the map either by\n",
        "the average permeability of `i` and `j` (AverageWeight) or by the permeability of the target pixel\n",
        "`j` (TargetWeight; the default); the neighbors of a pixel can be defined either as rook (N4)\n",
        "or as queen (N8; the default).\n",
        "\n",
        "From the `Grid`, we can plot the qualities of the pixels:\n"
      ],
      "id": "72c32710"
    },
    {
      "cell_type": "code",
      "metadata": {},
      "source": [
        "ConScape.heatmap(g.source_qualities, yflip = true, \n",
        "                    title = \"Map of habitat uality\", \n",
        "                    color = cgrad([:white, :green]))\n",
        "# savefig(\"figure_grid_outdeg.png\")"
      ],
      "id": "a7c96ea5",
      "execution_count": null,
      "outputs": []
    },
    {
      "cell_type": "markdown",
      "metadata": {},
      "source": [
        "And the permeability:\n"
      ],
      "id": "70ac16ae"
    },
    {
      "cell_type": "code",
      "metadata": {},
      "source": [
        "ConScape.plot_outdegrees(g, title = \"Map of permeability to movement\", color = cgrad(:acton))"
      ],
      "id": "4bccbeec",
      "execution_count": null,
      "outputs": []
    },
    {
      "cell_type": "code",
      "metadata": {},
      "source": [
        "typeof(g.source_qualities)"
      ],
      "id": "4b5673b7",
      "execution_count": null,
      "outputs": []
    },
    {
      "cell_type": "code",
      "metadata": {},
      "source": [
        "typeof(g.affinities)\n",
        "typeof(g.costmatrix)\n",
        "typeof(g.costmatrix)"
      ],
      "id": "2fb97ac2",
      "execution_count": null,
      "outputs": []
    },
    {
      "cell_type": "code",
      "metadata": {},
      "source": [
        "(g.nrows, g.ncols, g.nrows*g.ncols)"
      ],
      "id": "d5ecf351",
      "execution_count": null,
      "outputs": []
    },
    {
      "cell_type": "markdown",
      "metadata": {},
      "source": [
        "# Step 2: GridRSP creation\n"
      ],
      "id": "fd16c107"
    },
    {
      "cell_type": "code",
      "metadata": {},
      "source": [
        "@time h = ConScape.GridRSP(g, θ = 1.0)"
      ],
      "id": "81d45d28",
      "execution_count": null,
      "outputs": []
    },
    {
      "cell_type": "markdown",
      "metadata": {},
      "source": [
        "Compute derived metrics.\n",
        "Distance from all pixels to a given target pixel.\n",
        "\n",
        "Pixel 4300 is our target:\n"
      ],
      "id": "be1fc63b"
    },
    {
      "cell_type": "code",
      "metadata": {},
      "source": [
        "#| eval: false\n",
        "\n",
        "tmp = zeros(10179)#5345) #g.nrows * g.ncols\n",
        "tmp[4300] = 1\n",
        "ConScape.plot_values(g, tmp, title = \"One target pixel t\")"
      ],
      "id": "31888030",
      "execution_count": null,
      "outputs": []
    },
    {
      "cell_type": "markdown",
      "metadata": {},
      "source": [
        "Ecological distances from all s to t are:\n"
      ],
      "id": "1982f270"
    },
    {
      "cell_type": "code",
      "metadata": {},
      "source": [
        "dists = ConScape.expected_cost(h)\n",
        "ConScape.plot_values(g, dists[:,4300], title = \"Ecological distances to target pixel t\")"
      ],
      "id": "984d4eb1",
      "execution_count": null,
      "outputs": []
    },
    {
      "cell_type": "markdown",
      "metadata": {},
      "source": [
        "Proximity instead of distance\n"
      ],
      "id": "62953248"
    },
    {
      "cell_type": "code",
      "metadata": {},
      "source": [
        "ConScape.plot_values(g, map!(x -> exp(-x/75), dists[:,4300], dists[:,4300]), \n",
        "                        title = \"Proximity to target pixel t\")"
      ],
      "id": "9014bfdb",
      "execution_count": null,
      "outputs": []
    },
    {
      "cell_type": "markdown",
      "metadata": {},
      "source": [
        "# Computation of habitat functionality\n",
        "\n",
        "Compute\n"
      ],
      "id": "dab159b1"
    },
    {
      "cell_type": "code",
      "metadata": {},
      "source": [
        "func = ConScape.connected_habitat(h, \n",
        "                    connectivity_function = ConScape.expected_cost,\n",
        "                    distance_transformation=x -> exp(-x/75));\n",
        "\n",
        "# func = ConScape.connected_habitat(h, distance_transformation=x -> exp(-x/75));"
      ],
      "id": "2da70405",
      "execution_count": null,
      "outputs": []
    },
    {
      "cell_type": "markdown",
      "metadata": {},
      "source": [
        "Plot\n"
      ],
      "id": "8656c6a0"
    },
    {
      "cell_type": "code",
      "metadata": {},
      "source": [
        "ConScape.heatmap(Array(func), yflip = true, title = \"Map of habitat functionality\")"
      ],
      "id": "1e3cf6d3",
      "execution_count": null,
      "outputs": []
    },
    {
      "cell_type": "code",
      "metadata": {},
      "source": [
        "sum(func)\n",
        "sum(filter(!isnan, func))"
      ],
      "id": "0d031985",
      "execution_count": null,
      "outputs": []
    },
    {
      "cell_type": "markdown",
      "metadata": {},
      "source": [
        "# Movement flow\n"
      ],
      "id": "c2dffb51"
    },
    {
      "cell_type": "code",
      "metadata": {},
      "source": [
        "ConScape.heatmap(ConScape.betweenness_qweighted(h), yflip = true, title = \"g\")"
      ],
      "id": "12b43a04",
      "execution_count": null,
      "outputs": []
    }
  ],
  "metadata": {
    "kernelspec": {
      "name": "julia-1.6",
      "language": "julia",
      "display_name": "Julia 1.6.3"
    }
  },
  "nbformat": 4,
  "nbformat_minor": 5
}